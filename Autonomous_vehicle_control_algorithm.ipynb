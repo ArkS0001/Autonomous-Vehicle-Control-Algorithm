{
  "nbformat": 4,
  "nbformat_minor": 0,
  "metadata": {
    "colab": {
      "provenance": [],
      "authorship_tag": "ABX9TyO45e81qyEvfH1XT9/QeyEc",
      "include_colab_link": true
    },
    "kernelspec": {
      "name": "python3",
      "display_name": "Python 3"
    },
    "language_info": {
      "name": "python"
    }
  },
  "cells": [
    {
      "cell_type": "markdown",
      "metadata": {
        "id": "view-in-github",
        "colab_type": "text"
      },
      "source": [
        "<a href=\"https://colab.research.google.com/github/ArkS0001/Autonomous-Vehicle-Control-Algorithm/blob/main/Autonomous_vehicle_control_algorithm.ipynb\" target=\"_parent\"><img src=\"https://colab.research.google.com/assets/colab-badge.svg\" alt=\"Open In Colab\"/></a>"
      ]
    },
    {
      "cell_type": "code",
      "execution_count": 2,
      "metadata": {
        "colab": {
          "base_uri": "https://localhost:8080/"
        },
        "id": "4pqlGgB0KAgi",
        "outputId": "d16f0b4d-d545-4970-d654-5d81a3b9c521"
      },
      "outputs": [
        {
          "output_type": "stream",
          "name": "stdout",
          "text": [
            "Cloning into 'AutonomousVehicleControlBeginnersGuide'...\n",
            "remote: Enumerating objects: 6779, done.\u001b[K\n",
            "remote: Counting objects: 100% (883/883), done.\u001b[K\n",
            "remote: Compressing objects: 100% (377/377), done.\u001b[K\n",
            "remote: Total 6779 (delta 553), reused 783 (delta 492), pack-reused 5896 (from 1)\u001b[K\n",
            "Receiving objects: 100% (6779/6779), 126.21 MiB | 34.68 MiB/s, done.\n",
            "Resolving deltas: 100% (3830/3830), done.\n"
          ]
        }
      ],
      "source": [
        "!git clone https://github.com/ShisatoYano/AutonomousVehicleControlBeginnersGuide"
      ]
    },
    {
      "cell_type": "code",
      "source": [
        "!pip install -r /content/AutonomousVehicleControlBeginnersGuide/requirements.txt\n",
        "%cd AutonomousVehicleControlBeginnersGuide"
      ],
      "metadata": {
        "colab": {
          "base_uri": "https://localhost:8080/"
        },
        "id": "tb8wdAUTKSX3",
        "outputId": "85867d76-f068-4de0-8bdc-5f972fd521a7"
      },
      "execution_count": 6,
      "outputs": [
        {
          "output_type": "stream",
          "name": "stdout",
          "text": [
            "Requirement already satisfied: matplotlib in /usr/local/lib/python3.10/dist-packages (from -r /content/AutonomousVehicleControlBeginnersGuide/requirements.txt (line 1)) (3.8.0)\n",
            "Requirement already satisfied: numpy in /usr/local/lib/python3.10/dist-packages (from -r /content/AutonomousVehicleControlBeginnersGuide/requirements.txt (line 2)) (1.26.4)\n",
            "Requirement already satisfied: pandas in /usr/local/lib/python3.10/dist-packages (from -r /content/AutonomousVehicleControlBeginnersGuide/requirements.txt (line 3)) (2.2.2)\n",
            "Requirement already satisfied: scipy in /usr/local/lib/python3.10/dist-packages (from -r /content/AutonomousVehicleControlBeginnersGuide/requirements.txt (line 4)) (1.13.1)\n",
            "Requirement already satisfied: seaborn in /usr/local/lib/python3.10/dist-packages (from -r /content/AutonomousVehicleControlBeginnersGuide/requirements.txt (line 5)) (0.13.2)\n",
            "Requirement already satisfied: pytest in /usr/local/lib/python3.10/dist-packages (from -r /content/AutonomousVehicleControlBeginnersGuide/requirements.txt (line 6)) (8.3.4)\n",
            "Requirement already satisfied: pytest-cov in /usr/local/lib/python3.10/dist-packages (from -r /content/AutonomousVehicleControlBeginnersGuide/requirements.txt (line 7)) (6.0.0)\n",
            "Requirement already satisfied: contourpy>=1.0.1 in /usr/local/lib/python3.10/dist-packages (from matplotlib->-r /content/AutonomousVehicleControlBeginnersGuide/requirements.txt (line 1)) (1.3.1)\n",
            "Requirement already satisfied: cycler>=0.10 in /usr/local/lib/python3.10/dist-packages (from matplotlib->-r /content/AutonomousVehicleControlBeginnersGuide/requirements.txt (line 1)) (0.12.1)\n",
            "Requirement already satisfied: fonttools>=4.22.0 in /usr/local/lib/python3.10/dist-packages (from matplotlib->-r /content/AutonomousVehicleControlBeginnersGuide/requirements.txt (line 1)) (4.55.3)\n",
            "Requirement already satisfied: kiwisolver>=1.0.1 in /usr/local/lib/python3.10/dist-packages (from matplotlib->-r /content/AutonomousVehicleControlBeginnersGuide/requirements.txt (line 1)) (1.4.7)\n",
            "Requirement already satisfied: packaging>=20.0 in /usr/local/lib/python3.10/dist-packages (from matplotlib->-r /content/AutonomousVehicleControlBeginnersGuide/requirements.txt (line 1)) (24.2)\n",
            "Requirement already satisfied: pillow>=6.2.0 in /usr/local/lib/python3.10/dist-packages (from matplotlib->-r /content/AutonomousVehicleControlBeginnersGuide/requirements.txt (line 1)) (11.0.0)\n",
            "Requirement already satisfied: pyparsing>=2.3.1 in /usr/local/lib/python3.10/dist-packages (from matplotlib->-r /content/AutonomousVehicleControlBeginnersGuide/requirements.txt (line 1)) (3.2.0)\n",
            "Requirement already satisfied: python-dateutil>=2.7 in /usr/local/lib/python3.10/dist-packages (from matplotlib->-r /content/AutonomousVehicleControlBeginnersGuide/requirements.txt (line 1)) (2.8.2)\n",
            "Requirement already satisfied: pytz>=2020.1 in /usr/local/lib/python3.10/dist-packages (from pandas->-r /content/AutonomousVehicleControlBeginnersGuide/requirements.txt (line 3)) (2024.2)\n",
            "Requirement already satisfied: tzdata>=2022.7 in /usr/local/lib/python3.10/dist-packages (from pandas->-r /content/AutonomousVehicleControlBeginnersGuide/requirements.txt (line 3)) (2024.2)\n",
            "Requirement already satisfied: exceptiongroup>=1.0.0rc8 in /usr/local/lib/python3.10/dist-packages (from pytest->-r /content/AutonomousVehicleControlBeginnersGuide/requirements.txt (line 6)) (1.2.2)\n",
            "Requirement already satisfied: iniconfig in /usr/local/lib/python3.10/dist-packages (from pytest->-r /content/AutonomousVehicleControlBeginnersGuide/requirements.txt (line 6)) (2.0.0)\n",
            "Requirement already satisfied: pluggy<2,>=1.5 in /usr/local/lib/python3.10/dist-packages (from pytest->-r /content/AutonomousVehicleControlBeginnersGuide/requirements.txt (line 6)) (1.5.0)\n",
            "Requirement already satisfied: tomli>=1 in /usr/local/lib/python3.10/dist-packages (from pytest->-r /content/AutonomousVehicleControlBeginnersGuide/requirements.txt (line 6)) (2.2.1)\n",
            "Requirement already satisfied: coverage>=7.5 in /usr/local/lib/python3.10/dist-packages (from coverage[toml]>=7.5->pytest-cov->-r /content/AutonomousVehicleControlBeginnersGuide/requirements.txt (line 7)) (7.6.9)\n",
            "Requirement already satisfied: six>=1.5 in /usr/local/lib/python3.10/dist-packages (from python-dateutil>=2.7->matplotlib->-r /content/AutonomousVehicleControlBeginnersGuide/requirements.txt (line 1)) (1.17.0)\n",
            "/content/AutonomousVehicleControlBeginnersGuide\n"
          ]
        }
      ]
    },
    {
      "cell_type": "code",
      "source": [
        "# Execute unit tests\n",
        "!bash run_test_suites.sh\n"
      ],
      "metadata": {
        "colab": {
          "base_uri": "https://localhost:8080/"
        },
        "id": "iwWqvv0WK-Cz",
        "outputId": "cb3a8abb-3e15-46f7-a1b4-b23c110513be"
      },
      "execution_count": 7,
      "outputs": [
        {
          "output_type": "stream",
          "name": "stdout",
          "text": [
            "Run test suites!! \n",
            "\u001b[1m======================================= test session starts ========================================\u001b[0m\n",
            "platform linux -- Python 3.10.12, pytest-8.3.4, pluggy-1.5.0\n",
            "rootdir: /content/AutonomousVehicleControlBeginnersGuide\n",
            "configfile: pytest.ini\n",
            "plugins: cov-6.0.0, anyio-3.7.1, typeguard-4.4.1\n",
            "collected 44 items                                                                                 \u001b[0m\n",
            "\n",
            "test/test_angle_lib.py \u001b[32m.\u001b[0m\u001b[32m.\u001b[0m\u001b[32m.\u001b[0m\u001b[32m.\u001b[0m\u001b[32m                                                                  [  9%]\u001b[0m\n",
            "test/test_ekf_localization_path_tracking.py \u001b[32m.\u001b[0m\u001b[32m                                                [ 11%]\u001b[0m\n",
            "test/test_lidar_obstacle_sensing.py \u001b[32m.\u001b[0m\u001b[32m                                                        [ 13%]\u001b[0m\n",
            "test/test_matrix_lib.py \u001b[32m.\u001b[0m\u001b[32m.\u001b[0m\u001b[32m.\u001b[0m\u001b[32m                                                                  [ 20%]\u001b[0m\n",
            "test/test_min_max.py \u001b[32m.\u001b[0m\u001b[32m.\u001b[0m\u001b[32m                                                                      [ 25%]\u001b[0m\n",
            "test/test_ndt_map_construction.py \u001b[32m.\u001b[0m\u001b[32m                                                          [ 27%]\u001b[0m\n",
            "test/test_point_cloud_rectangle_fitting.py \u001b[32m.\u001b[0m\u001b[32m                                                 [ 29%]\u001b[0m\n",
            "test/test_pure_pursuit_path_tracking.py \u001b[32m.\u001b[0m\u001b[32m                                                    [ 31%]\u001b[0m\n",
            "test/test_rear_wheel_feedback_path_tracking.py \u001b[32m.\u001b[0m\u001b[32m                                             [ 34%]\u001b[0m\n",
            "test/test_rectangle.py \u001b[32m.\u001b[0m\u001b[32m.\u001b[0m\u001b[32m.\u001b[0m\u001b[32m.\u001b[0m\u001b[32m                                                                  [ 43%]\u001b[0m\n",
            "test/test_scan_point.py \u001b[32m.\u001b[0m\u001b[32m.\u001b[0m\u001b[32m.\u001b[0m\u001b[32m                                                                  [ 50%]\u001b[0m\n",
            "test/test_search_nearest_neighbor_kd_tree.py \u001b[32m.\u001b[0m\u001b[32m                                               [ 52%]\u001b[0m\n",
            "test/test_search_neighbor_points_kd_tree.py \u001b[32m.\u001b[0m\u001b[32m                                                [ 54%]\u001b[0m\n",
            "test/test_sensor_auto_calibration.py \u001b[32m.\u001b[0m\u001b[32m                                                       [ 56%]\u001b[0m\n",
            "test/test_state.py \u001b[32m.\u001b[0m\u001b[32m.\u001b[0m\u001b[32m.\u001b[0m\u001b[32m.\u001b[0m\u001b[32m.\u001b[0m\u001b[32m.\u001b[0m\u001b[32m.\u001b[0m\u001b[32m.\u001b[0m\u001b[32m.\u001b[0m\u001b[32m.\u001b[0m\u001b[32m                                                                [ 79%]\u001b[0m\n",
            "test/test_time_parameters.py \u001b[32m.\u001b[0m\u001b[32m.\u001b[0m\u001b[32m.\u001b[0m\u001b[32m.\u001b[0m\u001b[32m.\u001b[0m\u001b[32m.\u001b[0m\u001b[32m                                                          [ 93%]\u001b[0m\n",
            "test/test_vehicle_specification.py \u001b[32m.\u001b[0m\u001b[32m                                                         [ 95%]\u001b[0m\n",
            "test/test_xy_array.py \u001b[32m.\u001b[0m\u001b[32m.\u001b[0m\u001b[32m                                                                     [100%]\u001b[0m\n",
            "\n",
            "======================================== slowest durations =========================================\n",
            "111.34s call     test/test_point_cloud_rectangle_fitting.py::test_simulation\n",
            "101.92s call     test/test_ndt_map_construction.py::test_simulation\n",
            "51.00s call     test/test_lidar_obstacle_sensing.py::test_simulation\n",
            "20.07s call     test/test_sensor_auto_calibration.py::test_simulation\n",
            "15.63s call     test/test_ekf_localization_path_tracking.py::test_simulation\n",
            "8.38s call     test/test_pure_pursuit_path_tracking.py::test_simulation\n",
            "6.69s call     test/test_rear_wheel_feedback_path_tracking.py::test_simulation\n",
            "0.14s call     test/test_search_nearest_neighbor_kd_tree.py::test_simulation\n",
            "0.09s call     test/test_search_neighbor_points_kd_tree.py::test_simulation\n",
            "0.03s call     test/test_state.py::test_draw\n",
            "0.02s call     test/test_rectangle.py::test_draw\n",
            "0.02s call     test/test_scan_point.py::test_draw\n",
            "\n",
            "(120 durations < 0.005s hidden.  Use -vv to show these durations.)\n",
            "\u001b[32m================================== \u001b[32m\u001b[1m44 passed\u001b[0m\u001b[32m in 317.71s (0:05:17)\u001b[0m\u001b[32m ==================================\u001b[0m\n"
          ]
        }
      ]
    },
    {
      "cell_type": "code",
      "source": [
        "# Execute the Extended Kalman Filter simulation\n",
        "!python src/simulations/localization/extended_kalman_filter_localization/extended_kalman_filter_localization.py\n"
      ],
      "metadata": {
        "colab": {
          "base_uri": "https://localhost:8080/"
        },
        "id": "HMdjw-DhLC03",
        "outputId": "cfc89c67-4d45-4dcc-b8ed-d5685df32ff9"
      },
      "execution_count": 14,
      "outputs": [
        {
          "output_type": "stream",
          "name": "stdout",
          "text": [
            "Simulation start!!\n",
            "Figure(800x800)\n",
            "Simulation finished!!\n",
            "/usr/local/lib/python3.10/dist-packages/matplotlib/animation.py:892: UserWarning: Animation was deleted without rendering anything. This is most likely not intended. To prevent deletion, assign the Animation to a variable, e.g. `anim`, that exists until you output the Animation using `plt.show()` or `anim.save()`.\n",
            "  warnings.warn(\n"
          ]
        }
      ]
    }
  ]
}